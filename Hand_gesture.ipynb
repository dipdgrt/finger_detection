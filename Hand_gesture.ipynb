{
 "cells": [
  {
   "cell_type": "code",
   "execution_count": null,
   "id": "3dcc954e",
   "metadata": {},
   "outputs": [],
   "source": [
    "import cv2\n",
    "import mediapipe as mp\n",
    "\n",
    "# Create a MediaPipe Hands object\n",
    "mp_hands = mp.solutions.hands.Hands(static_image_mode=False, max_num_hands=1, min_detection_confidence=0.5)\n",
    "\n",
    "# Open the webcam\n",
    "cap = cv2.VideoCapture(0)\n",
    "\n",
    "while True:\n",
    "    # Read the frame from the webcam\n",
    "    ret, frame = cap.read()\n",
    "    if not ret:\n",
    "        break\n",
    "    \n",
    "    # Convert the frame to RGB\n",
    "    frame_rgb = cv2.cvtColor(frame, cv2.COLOR_BGR2RGB)\n",
    "    \n",
    "    # Process the frame with MediaPipe Hands\n",
    "    results = mp_hands.process(frame_rgb)\n",
    "    \n",
    "    # Check if hand landmarks are detected\n",
    "    if results.multi_hand_landmarks:\n",
    "        for hand_landmarks in results.multi_hand_landmarks:\n",
    "            # Get the landmark coordinates\n",
    "            for landmark in hand_landmarks.landmark:\n",
    "                # Process the landmark coordinates here\n",
    "                x = landmark.x\n",
    "                y = landmark.y\n",
    "                z = landmark.z\n",
    "                \n",
    "                # Example: Print the coordinates\n",
    "                print(f\"Landmark coordinates - x: {x}, y: {y}, z: {z}\")\n",
    "                \n",
    "                # Example: Draw a circle at each landmark\n",
    "                image_height, image_width, _ = frame.shape\n",
    "                x_pixel = int(x * image_width)\n",
    "                y_pixel = int(y * image_height)\n",
    "                cv2.circle(frame, (x_pixel, y_pixel), 5, (0, 255, 0), -1)\n",
    "    \n",
    "        # Display the frame\n",
    "        cv2.imshow('Hand Detection', frame)\n",
    "    \n",
    "    # Exit the loop by pressing 'q'\n",
    "    if cv2.waitKey(1) & 0xFF == ord('q'):\n",
    "        break\n",
    "\n",
    "# Release the webcam and destroy the windows\n",
    "cap.release()\n",
    "cv2.destroyAllWindows()"
   ]
  }
 ],
 "metadata": {
  "kernelspec": {
   "display_name": "Python 3",
   "language": "python",
   "name": "python3"
  },
  "language_info": {
   "codemirror_mode": {
    "name": "ipython",
    "version": 3
   },
   "file_extension": ".py",
   "mimetype": "text/x-python",
   "name": "python",
   "nbconvert_exporter": "python",
   "pygments_lexer": "ipython3",
   "version": "3.8.8"
  }
 },
 "nbformat": 4,
 "nbformat_minor": 5
}
